{
  "nbformat": 4,
  "nbformat_minor": 0,
  "metadata": {
    "colab": {
      "provenance": [],
      "collapsed_sections": [
        "RhEdWd9YUR6H",
        "X62IW3KFUIYm",
        "2V_vcAPzWZmR",
        "Rq6tU_xSY3jk",
        "DmNp1KPBZCm-",
        "Fl0cGi3bZKqU"
      ]
    },
    "kernelspec": {
      "name": "python3",
      "display_name": "Python 3"
    },
    "language_info": {
      "name": "python"
    }
  },
  "cells": [
    {
      "cell_type": "markdown",
      "source": [
        "### Importación de datos\n",
        "\n"
      ],
      "metadata": {
        "id": "RhEdWd9YUR6H"
      }
    },
    {
      "cell_type": "code",
      "execution_count": 16,
      "metadata": {
        "colab": {
          "base_uri": "https://localhost:8080/",
          "height": 206
        },
        "id": "T3EvaeQ_INIL",
        "outputId": "4347ca1c-8b71-4374-fff2-1201b251cc97"
      },
      "outputs": [
        {
          "output_type": "execute_result",
          "data": {
            "text/plain": [
              "           Producto  Categoría del Producto    Precio  Costo de envío  \\\n",
              "0  Silla de oficina                 Muebles  283600.0         15300.0   \n",
              "1         Pandereta  Instrumentos musicales   76800.0          2300.0   \n",
              "2         Cama king                 Muebles  443300.0         23800.0   \n",
              "3         Cama king                 Muebles  906200.0         46400.0   \n",
              "4  Silla de oficina                 Muebles  397800.0         19400.0   \n",
              "\n",
              "  Fecha de Compra         Vendedor Lugar de Compra  Calificación  \\\n",
              "0      04/08/2021  Izabela de León        Medellín             1   \n",
              "1      26/11/2020   Blanca Ramirez        Medellín             3   \n",
              "2      22/10/2021  Izabela de León         Pereira             5   \n",
              "3      04/05/2022    Maria Alfonso            Cali             5   \n",
              "4      26/02/2022    Lucas Olivera          Bogotá             4   \n",
              "\n",
              "       Método de pago  Cantidad de cuotas      lat       lon  \n",
              "0               Nequi                   1  6.25184 -75.56359  \n",
              "1  Tarjeta de crédito                   4  6.25184 -75.56359  \n",
              "2  Tarjeta de crédito                  10  4.81333 -75.69611  \n",
              "3  Tarjeta de crédito                  10  3.43722 -76.52250  \n",
              "4  Tarjeta de crédito                   3  4.60971 -74.08175  "
            ],
            "text/html": [
              "\n",
              "  <div id=\"df-e6fea5a9-1192-485e-9b47-6945bb9c7b7d\" class=\"colab-df-container\">\n",
              "    <div>\n",
              "<style scoped>\n",
              "    .dataframe tbody tr th:only-of-type {\n",
              "        vertical-align: middle;\n",
              "    }\n",
              "\n",
              "    .dataframe tbody tr th {\n",
              "        vertical-align: top;\n",
              "    }\n",
              "\n",
              "    .dataframe thead th {\n",
              "        text-align: right;\n",
              "    }\n",
              "</style>\n",
              "<table border=\"1\" class=\"dataframe\">\n",
              "  <thead>\n",
              "    <tr style=\"text-align: right;\">\n",
              "      <th></th>\n",
              "      <th>Producto</th>\n",
              "      <th>Categoría del Producto</th>\n",
              "      <th>Precio</th>\n",
              "      <th>Costo de envío</th>\n",
              "      <th>Fecha de Compra</th>\n",
              "      <th>Vendedor</th>\n",
              "      <th>Lugar de Compra</th>\n",
              "      <th>Calificación</th>\n",
              "      <th>Método de pago</th>\n",
              "      <th>Cantidad de cuotas</th>\n",
              "      <th>lat</th>\n",
              "      <th>lon</th>\n",
              "    </tr>\n",
              "  </thead>\n",
              "  <tbody>\n",
              "    <tr>\n",
              "      <th>0</th>\n",
              "      <td>Silla de oficina</td>\n",
              "      <td>Muebles</td>\n",
              "      <td>283600.0</td>\n",
              "      <td>15300.0</td>\n",
              "      <td>04/08/2021</td>\n",
              "      <td>Izabela de León</td>\n",
              "      <td>Medellín</td>\n",
              "      <td>1</td>\n",
              "      <td>Nequi</td>\n",
              "      <td>1</td>\n",
              "      <td>6.25184</td>\n",
              "      <td>-75.56359</td>\n",
              "    </tr>\n",
              "    <tr>\n",
              "      <th>1</th>\n",
              "      <td>Pandereta</td>\n",
              "      <td>Instrumentos musicales</td>\n",
              "      <td>76800.0</td>\n",
              "      <td>2300.0</td>\n",
              "      <td>26/11/2020</td>\n",
              "      <td>Blanca Ramirez</td>\n",
              "      <td>Medellín</td>\n",
              "      <td>3</td>\n",
              "      <td>Tarjeta de crédito</td>\n",
              "      <td>4</td>\n",
              "      <td>6.25184</td>\n",
              "      <td>-75.56359</td>\n",
              "    </tr>\n",
              "    <tr>\n",
              "      <th>2</th>\n",
              "      <td>Cama king</td>\n",
              "      <td>Muebles</td>\n",
              "      <td>443300.0</td>\n",
              "      <td>23800.0</td>\n",
              "      <td>22/10/2021</td>\n",
              "      <td>Izabela de León</td>\n",
              "      <td>Pereira</td>\n",
              "      <td>5</td>\n",
              "      <td>Tarjeta de crédito</td>\n",
              "      <td>10</td>\n",
              "      <td>4.81333</td>\n",
              "      <td>-75.69611</td>\n",
              "    </tr>\n",
              "    <tr>\n",
              "      <th>3</th>\n",
              "      <td>Cama king</td>\n",
              "      <td>Muebles</td>\n",
              "      <td>906200.0</td>\n",
              "      <td>46400.0</td>\n",
              "      <td>04/05/2022</td>\n",
              "      <td>Maria Alfonso</td>\n",
              "      <td>Cali</td>\n",
              "      <td>5</td>\n",
              "      <td>Tarjeta de crédito</td>\n",
              "      <td>10</td>\n",
              "      <td>3.43722</td>\n",
              "      <td>-76.52250</td>\n",
              "    </tr>\n",
              "    <tr>\n",
              "      <th>4</th>\n",
              "      <td>Silla de oficina</td>\n",
              "      <td>Muebles</td>\n",
              "      <td>397800.0</td>\n",
              "      <td>19400.0</td>\n",
              "      <td>26/02/2022</td>\n",
              "      <td>Lucas Olivera</td>\n",
              "      <td>Bogotá</td>\n",
              "      <td>4</td>\n",
              "      <td>Tarjeta de crédito</td>\n",
              "      <td>3</td>\n",
              "      <td>4.60971</td>\n",
              "      <td>-74.08175</td>\n",
              "    </tr>\n",
              "  </tbody>\n",
              "</table>\n",
              "</div>\n",
              "    <div class=\"colab-df-buttons\">\n",
              "\n",
              "  <div class=\"colab-df-container\">\n",
              "    <button class=\"colab-df-convert\" onclick=\"convertToInteractive('df-e6fea5a9-1192-485e-9b47-6945bb9c7b7d')\"\n",
              "            title=\"Convert this dataframe to an interactive table.\"\n",
              "            style=\"display:none;\">\n",
              "\n",
              "  <svg xmlns=\"http://www.w3.org/2000/svg\" height=\"24px\" viewBox=\"0 -960 960 960\">\n",
              "    <path d=\"M120-120v-720h720v720H120Zm60-500h600v-160H180v160Zm220 220h160v-160H400v160Zm0 220h160v-160H400v160ZM180-400h160v-160H180v160Zm440 0h160v-160H620v160ZM180-180h160v-160H180v160Zm440 0h160v-160H620v160Z\"/>\n",
              "  </svg>\n",
              "    </button>\n",
              "\n",
              "  <style>\n",
              "    .colab-df-container {\n",
              "      display:flex;\n",
              "      gap: 12px;\n",
              "    }\n",
              "\n",
              "    .colab-df-convert {\n",
              "      background-color: #E8F0FE;\n",
              "      border: none;\n",
              "      border-radius: 50%;\n",
              "      cursor: pointer;\n",
              "      display: none;\n",
              "      fill: #1967D2;\n",
              "      height: 32px;\n",
              "      padding: 0 0 0 0;\n",
              "      width: 32px;\n",
              "    }\n",
              "\n",
              "    .colab-df-convert:hover {\n",
              "      background-color: #E2EBFA;\n",
              "      box-shadow: 0px 1px 2px rgba(60, 64, 67, 0.3), 0px 1px 3px 1px rgba(60, 64, 67, 0.15);\n",
              "      fill: #174EA6;\n",
              "    }\n",
              "\n",
              "    .colab-df-buttons div {\n",
              "      margin-bottom: 4px;\n",
              "    }\n",
              "\n",
              "    [theme=dark] .colab-df-convert {\n",
              "      background-color: #3B4455;\n",
              "      fill: #D2E3FC;\n",
              "    }\n",
              "\n",
              "    [theme=dark] .colab-df-convert:hover {\n",
              "      background-color: #434B5C;\n",
              "      box-shadow: 0px 1px 3px 1px rgba(0, 0, 0, 0.15);\n",
              "      filter: drop-shadow(0px 1px 2px rgba(0, 0, 0, 0.3));\n",
              "      fill: #FFFFFF;\n",
              "    }\n",
              "  </style>\n",
              "\n",
              "    <script>\n",
              "      const buttonEl =\n",
              "        document.querySelector('#df-e6fea5a9-1192-485e-9b47-6945bb9c7b7d button.colab-df-convert');\n",
              "      buttonEl.style.display =\n",
              "        google.colab.kernel.accessAllowed ? 'block' : 'none';\n",
              "\n",
              "      async function convertToInteractive(key) {\n",
              "        const element = document.querySelector('#df-e6fea5a9-1192-485e-9b47-6945bb9c7b7d');\n",
              "        const dataTable =\n",
              "          await google.colab.kernel.invokeFunction('convertToInteractive',\n",
              "                                                    [key], {});\n",
              "        if (!dataTable) return;\n",
              "\n",
              "        const docLinkHtml = 'Like what you see? Visit the ' +\n",
              "          '<a target=\"_blank\" href=https://colab.research.google.com/notebooks/data_table.ipynb>data table notebook</a>'\n",
              "          + ' to learn more about interactive tables.';\n",
              "        element.innerHTML = '';\n",
              "        dataTable['output_type'] = 'display_data';\n",
              "        await google.colab.output.renderOutput(dataTable, element);\n",
              "        const docLink = document.createElement('div');\n",
              "        docLink.innerHTML = docLinkHtml;\n",
              "        element.appendChild(docLink);\n",
              "      }\n",
              "    </script>\n",
              "  </div>\n",
              "\n",
              "\n",
              "    <div id=\"df-fec221ff-60fc-47f1-a8d3-a8f319dc6226\">\n",
              "      <button class=\"colab-df-quickchart\" onclick=\"quickchart('df-fec221ff-60fc-47f1-a8d3-a8f319dc6226')\"\n",
              "                title=\"Suggest charts\"\n",
              "                style=\"display:none;\">\n",
              "\n",
              "<svg xmlns=\"http://www.w3.org/2000/svg\" height=\"24px\"viewBox=\"0 0 24 24\"\n",
              "     width=\"24px\">\n",
              "    <g>\n",
              "        <path d=\"M19 3H5c-1.1 0-2 .9-2 2v14c0 1.1.9 2 2 2h14c1.1 0 2-.9 2-2V5c0-1.1-.9-2-2-2zM9 17H7v-7h2v7zm4 0h-2V7h2v10zm4 0h-2v-4h2v4z\"/>\n",
              "    </g>\n",
              "</svg>\n",
              "      </button>\n",
              "\n",
              "<style>\n",
              "  .colab-df-quickchart {\n",
              "      --bg-color: #E8F0FE;\n",
              "      --fill-color: #1967D2;\n",
              "      --hover-bg-color: #E2EBFA;\n",
              "      --hover-fill-color: #174EA6;\n",
              "      --disabled-fill-color: #AAA;\n",
              "      --disabled-bg-color: #DDD;\n",
              "  }\n",
              "\n",
              "  [theme=dark] .colab-df-quickchart {\n",
              "      --bg-color: #3B4455;\n",
              "      --fill-color: #D2E3FC;\n",
              "      --hover-bg-color: #434B5C;\n",
              "      --hover-fill-color: #FFFFFF;\n",
              "      --disabled-bg-color: #3B4455;\n",
              "      --disabled-fill-color: #666;\n",
              "  }\n",
              "\n",
              "  .colab-df-quickchart {\n",
              "    background-color: var(--bg-color);\n",
              "    border: none;\n",
              "    border-radius: 50%;\n",
              "    cursor: pointer;\n",
              "    display: none;\n",
              "    fill: var(--fill-color);\n",
              "    height: 32px;\n",
              "    padding: 0;\n",
              "    width: 32px;\n",
              "  }\n",
              "\n",
              "  .colab-df-quickchart:hover {\n",
              "    background-color: var(--hover-bg-color);\n",
              "    box-shadow: 0 1px 2px rgba(60, 64, 67, 0.3), 0 1px 3px 1px rgba(60, 64, 67, 0.15);\n",
              "    fill: var(--button-hover-fill-color);\n",
              "  }\n",
              "\n",
              "  .colab-df-quickchart-complete:disabled,\n",
              "  .colab-df-quickchart-complete:disabled:hover {\n",
              "    background-color: var(--disabled-bg-color);\n",
              "    fill: var(--disabled-fill-color);\n",
              "    box-shadow: none;\n",
              "  }\n",
              "\n",
              "  .colab-df-spinner {\n",
              "    border: 2px solid var(--fill-color);\n",
              "    border-color: transparent;\n",
              "    border-bottom-color: var(--fill-color);\n",
              "    animation:\n",
              "      spin 1s steps(1) infinite;\n",
              "  }\n",
              "\n",
              "  @keyframes spin {\n",
              "    0% {\n",
              "      border-color: transparent;\n",
              "      border-bottom-color: var(--fill-color);\n",
              "      border-left-color: var(--fill-color);\n",
              "    }\n",
              "    20% {\n",
              "      border-color: transparent;\n",
              "      border-left-color: var(--fill-color);\n",
              "      border-top-color: var(--fill-color);\n",
              "    }\n",
              "    30% {\n",
              "      border-color: transparent;\n",
              "      border-left-color: var(--fill-color);\n",
              "      border-top-color: var(--fill-color);\n",
              "      border-right-color: var(--fill-color);\n",
              "    }\n",
              "    40% {\n",
              "      border-color: transparent;\n",
              "      border-right-color: var(--fill-color);\n",
              "      border-top-color: var(--fill-color);\n",
              "    }\n",
              "    60% {\n",
              "      border-color: transparent;\n",
              "      border-right-color: var(--fill-color);\n",
              "    }\n",
              "    80% {\n",
              "      border-color: transparent;\n",
              "      border-right-color: var(--fill-color);\n",
              "      border-bottom-color: var(--fill-color);\n",
              "    }\n",
              "    90% {\n",
              "      border-color: transparent;\n",
              "      border-bottom-color: var(--fill-color);\n",
              "    }\n",
              "  }\n",
              "</style>\n",
              "\n",
              "      <script>\n",
              "        async function quickchart(key) {\n",
              "          const quickchartButtonEl =\n",
              "            document.querySelector('#' + key + ' button');\n",
              "          quickchartButtonEl.disabled = true;  // To prevent multiple clicks.\n",
              "          quickchartButtonEl.classList.add('colab-df-spinner');\n",
              "          try {\n",
              "            const charts = await google.colab.kernel.invokeFunction(\n",
              "                'suggestCharts', [key], {});\n",
              "          } catch (error) {\n",
              "            console.error('Error during call to suggestCharts:', error);\n",
              "          }\n",
              "          quickchartButtonEl.classList.remove('colab-df-spinner');\n",
              "          quickchartButtonEl.classList.add('colab-df-quickchart-complete');\n",
              "        }\n",
              "        (() => {\n",
              "          let quickchartButtonEl =\n",
              "            document.querySelector('#df-fec221ff-60fc-47f1-a8d3-a8f319dc6226 button');\n",
              "          quickchartButtonEl.style.display =\n",
              "            google.colab.kernel.accessAllowed ? 'block' : 'none';\n",
              "        })();\n",
              "      </script>\n",
              "    </div>\n",
              "\n",
              "    </div>\n",
              "  </div>\n"
            ],
            "application/vnd.google.colaboratory.intrinsic+json": {
              "type": "dataframe",
              "variable_name": "tienda2",
              "summary": "{\n  \"name\": \"tienda2\",\n  \"rows\": 2359,\n  \"fields\": [\n    {\n      \"column\": \"Producto\",\n      \"properties\": {\n        \"dtype\": \"category\",\n        \"num_unique_values\": 51,\n        \"samples\": [\n          \"Carrito de control remoto\",\n          \"Bal\\u00f3n de voleibol\",\n          \"Smartwatch\"\n        ],\n        \"semantic_type\": \"\",\n        \"description\": \"\"\n      }\n    },\n    {\n      \"column\": \"Categor\\u00eda del Producto\",\n      \"properties\": {\n        \"dtype\": \"category\",\n        \"num_unique_values\": 8,\n        \"samples\": [\n          \"Instrumentos musicales\",\n          \"Juguetes\",\n          \"Muebles\"\n        ],\n        \"semantic_type\": \"\",\n        \"description\": \"\"\n      }\n    },\n    {\n      \"column\": \"Precio\",\n      \"properties\": {\n        \"dtype\": \"number\",\n        \"std\": 595559.5496238894,\n        \"min\": 7600.0,\n        \"max\": 2953400.0,\n        \"num_unique_values\": 1908,\n        \"samples\": [\n          58500.0,\n          39100.0,\n          2005300.0\n        ],\n        \"semantic_type\": \"\",\n        \"description\": \"\"\n      }\n    },\n    {\n      \"column\": \"Costo de env\\u00edo\",\n      \"properties\": {\n        \"dtype\": \"number\",\n        \"std\": 31741.37516624008,\n        \"min\": 0.0,\n        \"max\": 162500.0,\n        \"num_unique_values\": 736,\n        \"samples\": [\n          79700.0,\n          32300.0,\n          12600.0\n        ],\n        \"semantic_type\": \"\",\n        \"description\": \"\"\n      }\n    },\n    {\n      \"column\": \"Fecha de Compra\",\n      \"properties\": {\n        \"dtype\": \"category\",\n        \"num_unique_values\": 1025,\n        \"samples\": [\n          \"17/02/2021\",\n          \"16/03/2023\",\n          \"30/07/2020\"\n        ],\n        \"semantic_type\": \"\",\n        \"description\": \"\"\n      }\n    },\n    {\n      \"column\": \"Vendedor\",\n      \"properties\": {\n        \"dtype\": \"category\",\n        \"num_unique_values\": 14,\n        \"samples\": [\n          \"Felipe Santos\",\n          \"\\u00c1ngel Rodriguez\",\n          \"Izabela de Le\\u00f3n\"\n        ],\n        \"semantic_type\": \"\",\n        \"description\": \"\"\n      }\n    },\n    {\n      \"column\": \"Lugar de Compra\",\n      \"properties\": {\n        \"dtype\": \"category\",\n        \"num_unique_values\": 19,\n        \"samples\": [\n          \"Medell\\u00edn\",\n          \"Barranquilla\",\n          \"Manizales\"\n        ],\n        \"semantic_type\": \"\",\n        \"description\": \"\"\n      }\n    },\n    {\n      \"column\": \"Calificaci\\u00f3n\",\n      \"properties\": {\n        \"dtype\": \"number\",\n        \"std\": 1,\n        \"min\": 1,\n        \"max\": 5,\n        \"num_unique_values\": 5,\n        \"samples\": [\n          3,\n          2,\n          5\n        ],\n        \"semantic_type\": \"\",\n        \"description\": \"\"\n      }\n    },\n    {\n      \"column\": \"M\\u00e9todo de pago\",\n      \"properties\": {\n        \"dtype\": \"category\",\n        \"num_unique_values\": 4,\n        \"samples\": [\n          \"Tarjeta de cr\\u00e9dito\",\n          \"Tarjeta de d\\u00e9bito\",\n          \"Nequi\"\n        ],\n        \"semantic_type\": \"\",\n        \"description\": \"\"\n      }\n    },\n    {\n      \"column\": \"Cantidad de cuotas\",\n      \"properties\": {\n        \"dtype\": \"number\",\n        \"std\": 2,\n        \"min\": 1,\n        \"max\": 24,\n        \"num_unique_values\": 17,\n        \"samples\": [\n          1,\n          4,\n          2\n        ],\n        \"semantic_type\": \"\",\n        \"description\": \"\"\n      }\n    },\n    {\n      \"column\": \"lat\",\n      \"properties\": {\n        \"dtype\": \"number\",\n        \"std\": 2.3511176512146568,\n        \"min\": -4.21528,\n        \"max\": 11.54444,\n        \"num_unique_values\": 19,\n        \"samples\": [\n          6.25184,\n          10.96854,\n          5.06889\n        ],\n        \"semantic_type\": \"\",\n        \"description\": \"\"\n      }\n    },\n    {\n      \"column\": \"lon\",\n      \"properties\": {\n        \"dtype\": \"number\",\n        \"std\": 1.185996710833015,\n        \"min\": -77.28111,\n        \"max\": -67.9239,\n        \"num_unique_values\": 19,\n        \"samples\": [\n          -75.56359,\n          -74.78132,\n          -75.51738\n        ],\n        \"semantic_type\": \"\",\n        \"description\": \"\"\n      }\n    }\n  ]\n}"
            }
          },
          "metadata": {},
          "execution_count": 16
        }
      ],
      "source": [
        "import pandas as pd\n",
        "import matplotlib.pyplot as plt\n",
        "\n",
        "url = \"https://raw.githubusercontent.com/alura-es-cursos/challenge1-data-science-latam/refs/heads/main/base-de-datos-challenge1-latam/tienda_1%20.csv\"\n",
        "url2 = \"https://raw.githubusercontent.com/alura-es-cursos/challenge1-data-science-latam/refs/heads/main/base-de-datos-challenge1-latam/tienda_2.csv\"\n",
        "url3 = \"https://raw.githubusercontent.com/alura-es-cursos/challenge1-data-science-latam/refs/heads/main/base-de-datos-challenge1-latam/tienda_3.csv\"\n",
        "url4 = \"https://raw.githubusercontent.com/alura-es-cursos/challenge1-data-science-latam/refs/heads/main/base-de-datos-challenge1-latam/tienda_4.csv\"\n",
        "\n",
        "tienda = pd.read_csv(url)\n",
        "tienda2 = pd.read_csv(url2)\n",
        "tienda3 = pd.read_csv(url3)\n",
        "tienda4 = pd.read_csv(url4)\n",
        "\n",
        "tienda2.head()"
      ]
    },
    {
      "cell_type": "markdown",
      "source": [
        "#1. Análisis de facturación\n"
      ],
      "metadata": {
        "id": "X62IW3KFUIYm"
      }
    },
    {
      "cell_type": "markdown",
      "source": [
        "Sumatoria total por producto en cada una de las tiendas"
      ],
      "metadata": {
        "id": "X7ox4NnjX78u"
      }
    },
    {
      "cell_type": "code",
      "source": [
        "Ventas_Tienda = tienda['Precio'].sum()\n",
        "Ventas_Tienda_2 = tienda2['Precio'].sum()\n",
        "Ventas_Tienda_3 = tienda3['Precio'].sum()\n",
        "Ventas_Tienda_4 = tienda4['Precio'].sum()\n",
        "\n",
        "lista_tiendas = [\n",
        "    (\"Tienda\", Ventas_Tienda),\n",
        "    (\"Tienda 2\", Ventas_Tienda_2),\n",
        "    (\"Tienda 3\", Ventas_Tienda_3),\n",
        "    (\"Tienda 4\", Ventas_Tienda_4)\n",
        "]\n",
        "\n",
        "for nombre, ventas in lista_tiendas:\n",
        "    print(f\" -La {nombre} vende: {ventas:,.0f} pesos\")\n"
      ],
      "metadata": {
        "id": "xykobSftV64I",
        "colab": {
          "base_uri": "https://localhost:8080/"
        },
        "outputId": "82eb4def-26bc-430f-f1ac-f279bdf80a07"
      },
      "execution_count": 2,
      "outputs": [
        {
          "output_type": "stream",
          "name": "stdout",
          "text": [
            " -La Tienda vende: 1,150,880,400 pesos\n",
            " -La Tienda 2 vende: 1,116,343,500 pesos\n",
            " -La Tienda 3 vende: 1,098,019,600 pesos\n",
            " -La Tienda 4 vende: 1,038,375,700 pesos\n"
          ]
        }
      ]
    },
    {
      "cell_type": "markdown",
      "source": [
        "# 2. Ventas por categoría"
      ],
      "metadata": {
        "id": "2V_vcAPzWZmR"
      }
    },
    {
      "cell_type": "markdown",
      "source": [
        "Segmentación por cada una de las categorias"
      ],
      "metadata": {
        "id": "1nAjduKsYFfm"
      }
    },
    {
      "cell_type": "code",
      "source": [
        "# Consolidación de las bases de datos en una sola data\n",
        "Base_Total_Tiendas = pd.concat([tienda, tienda2, tienda3, tienda4])\n",
        "\n",
        "# Segmentación por categoría y sumamos las ventas\n",
        "sumatoria_por_categoria = Base_Total_Tiendas.groupby('Categoría del Producto')['Precio'].sum()\n",
        "\n",
        "# Resultado con separador de miles\n",
        "print(\"Ventas totales por categoría para todas las tiendas es: \")\n",
        "print()\n",
        "for categoria, total in sumatoria_por_categoria.items():\n",
        "    print(f\"  - {categoria}: {total:,.0f} pesos\")\n",
        "\n",
        "# Se presenta categoría con mayor y menor volumen de ventas\n",
        "\n",
        "Categoria_con_mayor_venta = sumatoria_por_categoria.idxmax()\n",
        "Valor_mayor = sumatoria_por_categoria.max()\n",
        "\n",
        "Categoria_con_menor_venta = sumatoria_por_categoria.idxmin()\n",
        "Valor_menor = sumatoria_por_categoria.min()\n",
        "\n",
        "print()\n",
        "print(f\"El producto con > ventas es: {Categoria_con_mayor_venta} con un valor de: {Valor_mayor:,.0f} pesos\")\n",
        "print(f\"El producto con < ventas es: {Categoria_con_menor_venta} con un valor de: {Valor_menor:,.0f} pesos\")\n"
      ],
      "metadata": {
        "colab": {
          "base_uri": "https://localhost:8080/"
        },
        "id": "2oh6oET6kVk7",
        "outputId": "96064ea5-8117-4cf0-e27b-a8dbe20c32a6"
      },
      "execution_count": 3,
      "outputs": [
        {
          "output_type": "stream",
          "name": "stdout",
          "text": [
            "Ventas totales por categoría para todas las tiendas es: \n",
            "\n",
            "  - Artículos para el hogar: 57,579,800 pesos\n",
            "  - Deportes y diversión: 142,977,700 pesos\n",
            "  - Electrodomésticos: 1,324,751,100 pesos\n",
            "  - Electrónicos: 1,660,576,500 pesos\n",
            "  - Instrumentos musicales: 348,772,600 pesos\n",
            "  - Juguetes: 73,604,400 pesos\n",
            "  - Libros: 37,696,100 pesos\n",
            "  - Muebles: 757,661,000 pesos\n",
            "\n",
            "El producto con > ventas es: Electrónicos con un valor de: 1,660,576,500 pesos\n",
            "El producto con < ventas es: Libros con un valor de: 37,696,100 pesos\n"
          ]
        }
      ]
    },
    {
      "cell_type": "markdown",
      "source": [
        "# 3. Calificación promedio de la tienda\n"
      ],
      "metadata": {
        "id": "Rq6tU_xSY3jk"
      }
    },
    {
      "cell_type": "code",
      "source": [
        "# Cliclo for, para el caluculo del promedio de la calificación por tienda\n",
        "Tiendas = [tienda, tienda2, tienda3, tienda4]\n",
        "\n",
        "lista_tiendas = [\n",
        "    (\"Tienda\", Ventas_Tienda),\n",
        "    (\"Tienda 2\", Ventas_Tienda_2),\n",
        "    (\"Tienda 3\", Ventas_Tienda_3),\n",
        "    (\"Tienda 4\", Ventas_Tienda_4)\n",
        "]\n",
        "\n",
        "\n",
        "for i in Tiendas:\n",
        "  Calificacion_por_tienda =(i['Calificación'].mean())\n",
        "  print(f\"-  La calificación promedio de la tienda es: {Calificacion_por_tienda:,.2f}\")\n"
      ],
      "metadata": {
        "id": "bh3jjjJwY5MU",
        "colab": {
          "base_uri": "https://localhost:8080/"
        },
        "outputId": "4e301118-6175-443d-e257-91b81482b827"
      },
      "execution_count": 20,
      "outputs": [
        {
          "output_type": "stream",
          "name": "stdout",
          "text": [
            "-  La calificación promedio de la tienda Tienda es: 3.98\n",
            "-  La calificación promedio de la tienda Tienda es: 4.04\n",
            "-  La calificación promedio de la tienda Tienda es: 4.05\n",
            "-  La calificación promedio de la tienda Tienda es: 4.00\n"
          ]
        }
      ]
    },
    {
      "cell_type": "markdown",
      "source": [
        "# 4. Productos más y menos vendidos"
      ],
      "metadata": {
        "id": "DmNp1KPBZCm-"
      }
    },
    {
      "cell_type": "code",
      "source": [
        "# Lista de productos únicos\n",
        "lista_productos = Base_Total_Tiendas['Producto'].unique()\n",
        "\n",
        "# Sumatoria total por producto\n",
        "sumatoria_ventas_por_producto = Base_Total_Tiendas.groupby('Producto')['Precio'].sum()\n",
        "\n",
        "# Producto con mayores y menores ventas\n",
        "nombre_prodcuto_mayor_venta = sumatoria_ventas_por_producto.idxmax()\n",
        "nombre_prodcuto_menor_venta = sumatoria_ventas_por_producto.idxmin()\n",
        "\n",
        "# Sumatoria del precio del producto con mayores y menores ventas\n",
        "\n",
        "valor_producto_con_mayores_ventas = sumatoria_por_categoria.max()\n",
        "valor_producto_con_menores_ventas = sumatoria_por_categoria.min()\n",
        "\n",
        "print(f\"- El producto con mayor venta es: {nombre_prodcuto_mayor_venta} {valor_producto_con_mayores_ventas:,.0f} pesos\")\n",
        "print(f\"- El producto con menor venta es: {nombre_prodcuto_menor_venta} {valor_producto_con_menores_ventas:,.0f} pesos\")\n"
      ],
      "metadata": {
        "id": "qoyjqijQZHfF",
        "colab": {
          "base_uri": "https://localhost:8080/"
        },
        "outputId": "8196313b-2c3b-4104-d3ff-b01367727f51"
      },
      "execution_count": 5,
      "outputs": [
        {
          "output_type": "stream",
          "name": "stdout",
          "text": [
            "- El producto con mayor venta es: TV LED UHD 4K 1,660,576,500 pesos\n",
            "- El producto con menor venta es: Cubo mágico 8x8 37,696,100 pesos\n"
          ]
        }
      ]
    },
    {
      "cell_type": "markdown",
      "source": [
        "# 5. Envío promedio por tienda"
      ],
      "metadata": {
        "id": "Fl0cGi3bZKqU"
      }
    },
    {
      "cell_type": "code",
      "source": [
        "# Cálculo del costo total por tienda\n",
        "costo_de_envio_Tienda = tienda['Costo de envío'].sum()\n",
        "costo_de_envio_Tienda_2 = tienda2['Costo de envío'].sum()\n",
        "costo_de_envio_Tienda_3 = tienda3['Costo de envío'].sum()\n",
        "costo_de_envio_Tienda_4 = tienda4['Costo de envío'].sum()\n",
        "\n",
        "lista_tiendas = [\n",
        "    (\"Tienda\", costo_de_envio_Tienda),\n",
        "    (\"Tienda 2\", costo_de_envio_Tienda_2),\n",
        "    (\"Tienda 3\", costo_de_envio_Tienda_3),\n",
        "    (\"Tienda 4\", costo_de_envio_Tienda_4)\n",
        "]\n",
        "# Impresion del costo total\n",
        "\n",
        "for nombre, costo_promedio_por_tienda in lista_tiendas:\n",
        "  print(f\"  -La tienda {nombre} tiene un costo promedio de envío de: {costo_promedio_por_tienda:,.0f} pesos\")\n",
        "print()\n",
        "\n",
        "# Cálculo de la utilidad neta por tienda\n",
        "\n",
        "Ventas_Tienda = tienda['Precio'].sum()\n",
        "Ventas_Tienda_2 = tienda2['Precio'].sum()\n",
        "Ventas_Tienda_3 = tienda3['Precio'].sum()\n",
        "Ventas_Tienda_4 = tienda4['Precio'].sum()\n",
        "\n",
        "for i in Tiendas:\n",
        "  Utilidad_neta_por_tienda = (i['Precio'].sum() - i['Costo de envío'].sum())\n",
        "  print(f\"  -La tienda tiene una utilidad neta de: {Utilidad_neta_por_tienda:,.0f} pesos\")\n",
        "\n",
        "\n",
        "\n"
      ],
      "metadata": {
        "id": "S2JeaCykZNy9",
        "colab": {
          "base_uri": "https://localhost:8080/"
        },
        "outputId": "5d69bf88-dbdb-4f0a-f09a-325ffa4f017b"
      },
      "execution_count": 21,
      "outputs": [
        {
          "output_type": "stream",
          "name": "stdout",
          "text": [
            "  -La tienda Tienda tiene un costo promedio de envío de: 61,377,900 pesos\n",
            "  -La tienda Tienda 2 tiene un costo promedio de envío de: 59,485,100 pesos\n",
            "  -La tienda Tienda 3 tiene un costo promedio de envío de: 58,516,600 pesos\n",
            "  -La tienda Tienda 4 tiene un costo promedio de envío de: 55,317,400 pesos\n",
            "\n",
            "  -La tienda tiene una utilidad neta de: 1,089,502,500 pesos\n",
            "  -La tienda tiene una utilidad neta de: 1,056,858,400 pesos\n",
            "  -La tienda tiene una utilidad neta de: 1,039,503,000 pesos\n",
            "  -La tienda tiene una utilidad neta de: 983,058,300 pesos\n"
          ]
        }
      ]
    },
    {
      "cell_type": "code",
      "source": [
        "# Listas de datos\n",
        "nombres_tiendas = ['Tienda', 'Tienda 2', 'Tienda 3', 'Tienda 4']\n",
        "ventas = [Ventas_Tienda, Ventas_Tienda_2, Ventas_Tienda_3, Ventas_Tienda_4]\n",
        "costos_envio = [costo_de_envio_Tienda, costo_de_envio_Tienda_2, costo_de_envio_Tienda_3, costo_de_envio_Tienda_4]\n",
        "\n",
        "# Crear figura y ejes\n",
        "fig, ax1 = plt.subplots(figsize=(10,6))\n",
        "\n",
        "# Graficar las ventas como barras\n",
        "bars = ax1.bar(nombres_tiendas, ventas, color='skyblue', label='Ventas')\n",
        "\n",
        "# Configurar el eje Y primario\n",
        "ax1.set_ylabel('Ventas ($)', color='blue')\n",
        "ax1.tick_params(axis='y', labelcolor='blue')\n",
        "\n",
        "# Crear un segundo eje Y para los costos de envío\n",
        "ax2 = ax1.twinx()\n",
        "\n",
        "# Graficar los costos de envío como línea\n",
        "line = ax2.plot(nombres_tiendas, costos_envio, color='red', marker='o', label='Costo de envío')\n",
        "\n",
        "# Configurar el eje Y secundario\n",
        "ax2.set_ylabel('Costo de envío ($)', color='red')\n",
        "ax2.tick_params(axis='y', labelcolor='red')\n",
        "\n",
        "# Título\n",
        "plt.title('Ventas y Costos de Envío por Tienda')\n",
        "\n",
        "# Mostrar leyendas\n",
        "lines_labels = [bars, line[0]]\n",
        "labels = [l.get_label() for l in lines_labels]\n",
        "ax1.legend(lines_labels, labels, loc='upper left')\n",
        "\n",
        "# Mostrar la gráfica\n",
        "plt.show()\n"
      ],
      "metadata": {
        "id": "0tSdCie9ZQlt",
        "colab": {
          "base_uri": "https://localhost:8080/",
          "height": 545
        },
        "outputId": "5467b533-2e8b-46a1-9d1d-e9f7015f06b1"
      },
      "execution_count": 7,
      "outputs": [
        {
          "output_type": "display_data",
          "data": {
            "text/plain": [
              "<Figure size 1000x600 with 2 Axes>"
            ],
            "image/png": "[encoded data removed]"
          },
          "metadata": {}
        }
      ]
    },
    {
      "cell_type": "markdown",
      "source": [
        "#Conclusión"
      ],
      "metadata": {
        "id": "jN4CbOTGdG7h"
      }
    },
    {
      "cell_type": "markdown",
      "source": [
        "***Como resultado del análisis de los datos anteriormente presentados, se informa al usuario que la tienda que debería ser vendida es la Tienda #4, ya que registra el menor volumen de ventas.\n",
        "Por otro lado, se destaca que la Tienda #1 es la más rentable; sin embargo, presenta altos costos de envío y una baja calificación por parte de los usuarios.\n",
        "En este sentido, para incrementar la rentabilidad general, se recomienda reducir los costos de envío y mejorar la experiencia del cliente, lo cual podría traducirse en mayores ingresos a futuro.***"
      ],
      "metadata": {
        "id": "Zd18XWJxblrB"
      }
    },
    {
      "cell_type": "code",
      "source": [],
      "metadata": {
        "id": "mwTvURsFcyKz"
      },
      "execution_count": null,
      "outputs": []
    }
  ]
}